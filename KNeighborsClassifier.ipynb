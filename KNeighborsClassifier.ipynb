{
 "cells": [
  {
   "cell_type": "code",
   "execution_count": 1,
   "metadata": {},
   "outputs": [],
   "source": [
    "import numpy as np\n",
    "import pandas as pd"
   ]
  },
  {
   "cell_type": "code",
   "execution_count": 2,
   "metadata": {},
   "outputs": [],
   "source": [
    "X_train = pd.read_csv(\"X_train.csv\").set_index('enrollee_id')\n",
    "Y_train = pd.read_csv(\"Y_train.csv\").set_index('enrollee_id').values.flatten()\n",
    "X_test = pd.read_csv(\"X_test.csv\").set_index('enrollee_id')\n",
    "Y_test = pd.read_csv(\"Y_test.csv\").set_index('enrollee_id').values.flatten()"
   ]
  },
  {
   "cell_type": "code",
   "execution_count": 4,
   "metadata": {},
   "outputs": [],
   "source": [
    "from sklearn.neighbors import KNeighborsClassifier\n",
    "from sklearn import metrics\n",
    "from matplotlib import pyplot"
   ]
  },
  {
   "cell_type": "code",
   "execution_count": 5,
   "metadata": {},
   "outputs": [],
   "source": [
    "def training(X_train, X_test, y_train, y_test, model): \n",
    "    # training process\n",
    "    model.fit(X_train, y_train)\n",
    "    \n",
    "    # testing\n",
    "    y_pred = model.predict_proba(X_test)[:,1]\n",
    "    y_pred_train = model.predict_proba(X_train)[:,1]\n",
    "    #print(y_test.to_numpy())\n",
    "    #print(y_pred)\n",
    "    \n",
    "    test_score = metrics.roc_auc_score(y_test, y_pred)\n",
    "    train_score = metrics.roc_auc_score(y_train, y_pred_train)\n",
    "    return {'test_score':test_score, 'train_score':train_score}"
   ]
  },
  {
   "cell_type": "markdown",
   "metadata": {},
   "source": [
    "# Tunning Model"
   ]
  },
  {
   "cell_type": "code",
   "execution_count": 9,
   "metadata": {},
   "outputs": [
    {
     "name": "stdout",
     "output_type": "stream",
     "text": [
      "3 uniform 1\n",
      "0.6249511620917653\n",
      "0.8831640804207583\n",
      "\n",
      "3 uniform 2\n",
      "0.5931122448979592\n",
      "0.879322695035704\n",
      "\n",
      "3 uniform 3\n",
      "0.5874318416005953\n",
      "0.8781508096756978\n",
      "\n",
      "3 distance 1\n",
      "0.6208058433752182\n",
      "0.9999944146984304\n",
      "\n",
      "3 distance 2\n",
      "0.5883096716947649\n",
      "0.9999944146984303\n",
      "\n",
      "3 distance 3\n",
      "0.5826339196267568\n",
      "0.9999944146984304\n",
      "\n",
      "5 uniform 1\n",
      "0.6380688811288892\n",
      "0.8380242442293155\n",
      "\n",
      "5 uniform 2\n",
      "0.6101792154449437\n",
      "0.8330643365291082\n",
      "\n",
      "5 uniform 3\n",
      "0.598600158857372\n",
      "0.8311562878628336\n",
      "\n",
      "5 distance 1\n",
      "0.634945759509975\n",
      "0.9999944146984304\n",
      "\n",
      "5 distance 2\n",
      "0.6049608938947247\n",
      "0.9999944146984303\n",
      "\n",
      "5 distance 3\n",
      "0.5937113590176604\n",
      "0.9999944146984304\n",
      "\n",
      "10 uniform 1\n",
      "0.6484051650113061\n",
      "0.7902331601844159\n",
      "\n",
      "10 uniform 2\n",
      "0.6268853579299882\n",
      "0.774812016909963\n",
      "\n",
      "10 uniform 3\n",
      "0.6120196711223059\n",
      "0.7694662208385294\n",
      "\n",
      "10 distance 1\n",
      "0.6449909837707875\n",
      "0.9999944146984304\n",
      "\n",
      "10 distance 2\n",
      "0.6211079943899017\n",
      "0.9999944146984303\n",
      "\n",
      "10 distance 3\n",
      "0.6078979663394111\n",
      "0.9999944146984304\n",
      "\n",
      "20 uniform 1\n",
      "0.6670698328419726\n",
      "0.7591542578741273\n",
      "\n",
      "20 uniform 2\n",
      "0.6314519706900993\n",
      "0.7305452924211477\n",
      "\n",
      "20 uniform 3\n",
      "0.6166721527320606\n",
      "0.7208339378365758\n",
      "\n",
      "20 distance 1\n",
      "0.6606498840770529\n",
      "0.9999944146984304\n",
      "\n",
      "20 distance 2\n",
      "0.6280004007212983\n",
      "0.9999944146984303\n",
      "\n",
      "20 distance 3\n",
      "0.6140647808913187\n",
      "0.9999944146984304\n",
      "\n"
     ]
    }
   ],
   "source": [
    "param = []\n",
    "\n",
    "for n_neighbors in (3,5,10,20):\n",
    "    for weights in ('uniform', 'distance'):\n",
    "        for p in range (1,4):\n",
    "            model = KNeighborsClassifier(n_neighbors=n_neighbors, weights=weights, p=p, n_jobs=-1)\n",
    "            result = training(X_train, X_test, Y_train, Y_test, model)\n",
    "            print(n_neighbors,weights, p)\n",
    "            print(result['test_score'])\n",
    "            print(result['train_score'])\n",
    "            print()\n",
    "            param.append((result['test_score'],result['train_score'],n_neighbors,weights, p))"
   ]
  },
  {
   "cell_type": "code",
   "execution_count": 10,
   "metadata": {},
   "outputs": [
    {
     "data": {
      "text/plain": [
       "[(0.6670698328419726, 0.7591542578741273, 20, 'uniform', 1),\n",
       " (0.6606498840770529, 0.9999944146984304, 20, 'distance', 1),\n",
       " (0.6484051650113061, 0.7902331601844159, 10, 'uniform', 1),\n",
       " (0.6449909837707875, 0.9999944146984304, 10, 'distance', 1),\n",
       " (0.6380688811288892, 0.8380242442293155, 5, 'uniform', 1),\n",
       " (0.634945759509975, 0.9999944146984304, 5, 'distance', 1),\n",
       " (0.6314519706900993, 0.7305452924211477, 20, 'uniform', 2),\n",
       " (0.6280004007212983, 0.9999944146984303, 20, 'distance', 2),\n",
       " (0.6268853579299882, 0.774812016909963, 10, 'uniform', 2),\n",
       " (0.6249511620917653, 0.8831640804207583, 3, 'uniform', 1),\n",
       " (0.6211079943899017, 0.9999944146984303, 10, 'distance', 2),\n",
       " (0.6208058433752182, 0.9999944146984304, 3, 'distance', 1),\n",
       " (0.6166721527320606, 0.7208339378365758, 20, 'uniform', 3),\n",
       " (0.6140647808913187, 0.9999944146984304, 20, 'distance', 3),\n",
       " (0.6120196711223059, 0.7694662208385294, 10, 'uniform', 3),\n",
       " (0.6101792154449437, 0.8330643365291082, 5, 'uniform', 2),\n",
       " (0.6078979663394111, 0.9999944146984304, 10, 'distance', 3),\n",
       " (0.6049608938947247, 0.9999944146984303, 5, 'distance', 2),\n",
       " (0.598600158857372, 0.8311562878628336, 5, 'uniform', 3),\n",
       " (0.5937113590176604, 0.9999944146984304, 5, 'distance', 3),\n",
       " (0.5931122448979592, 0.879322695035704, 3, 'uniform', 2),\n",
       " (0.5883096716947649, 0.9999944146984303, 3, 'distance', 2),\n",
       " (0.5874318416005953, 0.8781508096756978, 3, 'uniform', 3),\n",
       " (0.5826339196267568, 0.9999944146984304, 3, 'distance', 3)]"
      ]
     },
     "execution_count": 10,
     "metadata": {},
     "output_type": "execute_result"
    }
   ],
   "source": [
    "param.sort()\n",
    "param[::-1]"
   ]
  },
  {
   "cell_type": "markdown",
   "metadata": {},
   "source": [
    "# Importance feature"
   ]
  },
  {
   "cell_type": "code",
   "execution_count": 13,
   "metadata": {},
   "outputs": [
    {
     "name": "stdout",
     "output_type": "stream",
     "text": [
      "test_score:  0.6670698328419726\n",
      "train_score:  0.7591542578741273\n"
     ]
    }
   ],
   "source": [
    "model = KNeighborsClassifier(n_neighbors=20, weights='uniform', p=1, n_jobs=-1)\n",
    "result = training(X_train, X_test, Y_train, Y_test, model)\n",
    "print('test_score: ',result['test_score'])     \n",
    "print('train_score: ',result['train_score'])"
   ]
  },
  {
   "cell_type": "markdown",
   "metadata": {},
   "source": [
    "# Scoring Model"
   ]
  },
  {
   "cell_type": "code",
   "execution_count": 14,
   "metadata": {},
   "outputs": [
    {
     "name": "stdout",
     "output_type": "stream",
     "text": [
      "AUC Score:  0.6619457412177148\n"
     ]
    }
   ],
   "source": [
    "test_df = pd.read_csv('test_processed.csv').set_index('enrollee_id')\n",
    "predict = model.predict_proba(test_df)[:,1]\n",
    "target_values = np.load(\"jobchange_test_target_values.npy\")\n",
    "score = metrics.roc_auc_score(target_values,predict)\n",
    "print(\"AUC Score: \",score)"
   ]
  },
  {
   "cell_type": "code",
   "execution_count": 15,
   "metadata": {},
   "outputs": [
    {
     "data": {
      "image/png": "[encoded data removed]",
      "text/plain": [
       "<Figure size 432x288 with 1 Axes>"
      ]
     },
     "metadata": {
      "needs_background": "light"
     },
     "output_type": "display_data"
    }
   ],
   "source": [
    "from sklearn.metrics import roc_curve, auc\n",
    "import matplotlib.pyplot as plt\n",
    "fpr, tpr, _ = roc_curve(target_values, predict)\n",
    "roc_auc = auc(fpr, tpr)\n",
    "\n",
    "plt.figure()\n",
    "lw = 2\n",
    "plt.plot(fpr, tpr, color='darkorange',\n",
    "         lw=lw, label='ROC curve (area = %0.4f)' % roc_auc)\n",
    "plt.plot([0, 1], [0, 1], color='navy', lw=lw, linestyle='--')\n",
    "plt.xlim([0.0, 1.0])\n",
    "plt.ylim([0.0, 1.05])\n",
    "plt.xlabel('False Positive Rate')\n",
    "plt.ylabel('True Positive Rate')\n",
    "plt.title('Receiver operating characteristic for training data')\n",
    "plt.legend(loc=\"lower right\")\n",
    "plt.show()"
   ]
  },
  {
   "cell_type": "code",
   "execution_count": null,
   "metadata": {},
   "outputs": [],
   "source": []
  },
  {
   "cell_type": "code",
   "execution_count": null,
   "metadata": {},
   "outputs": [],
   "source": []
  },
  {
   "cell_type": "code",
   "execution_count": null,
   "metadata": {},
   "outputs": [],
   "source": []
  }
 ],
 "metadata": {
  "kernelspec": {
   "display_name": "Python 3",
   "language": "python",
   "name": "python3"
  },
  "language_info": {
   "codemirror_mode": {
    "name": "ipython",
    "version": 3
   },
   "file_extension": ".py",
   "mimetype": "text/x-python",
   "name": "python",
   "nbconvert_exporter": "python",
   "pygments_lexer": "ipython3",
   "version": "3.7.6"
  }
 },
 "nbformat": 4,
 "nbformat_minor": 4
}
