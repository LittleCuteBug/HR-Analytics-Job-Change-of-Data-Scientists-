{
 "cells": [
  {
   "cell_type": "code",
   "execution_count": 1,
   "metadata": {},
   "outputs": [],
   "source": [
    "import numpy as np\n",
    "import pandas as pd"
   ]
  },
  {
   "cell_type": "code",
   "execution_count": 2,
   "metadata": {},
   "outputs": [],
   "source": [
    "X_train = pd.read_csv(\"X_train.csv\").set_index('enrollee_id')\n",
    "Y_train = pd.read_csv(\"Y_train.csv\").set_index('enrollee_id').values.flatten()\n",
    "X_test = pd.read_csv(\"X_test.csv\").set_index('enrollee_id')\n",
    "Y_test = pd.read_csv(\"Y_test.csv\").set_index('enrollee_id').values.flatten()"
   ]
  },
  {
   "cell_type": "code",
   "execution_count": 3,
   "metadata": {},
   "outputs": [],
   "source": [
    "from sklearn.naive_bayes import GaussianNB\n",
    "from sklearn import metrics\n",
    "from matplotlib import pyplot"
   ]
  },
  {
   "cell_type": "code",
   "execution_count": 4,
   "metadata": {},
   "outputs": [],
   "source": [
    "def training(X_train, X_test, y_train, y_test, model): \n",
    "    # training process\n",
    "    model.fit(X_train, y_train)\n",
    "    \n",
    "    # testing\n",
    "    y_pred = model.predict_proba(X_test)[:,1]\n",
    "    y_pred_train = model.predict_proba(X_train)[:,1]\n",
    "    #print(y_test.to_numpy())\n",
    "    #print(y_pred)\n",
    "    \n",
    "    test_score = metrics.roc_auc_score(y_test, y_pred)\n",
    "    train_score = metrics.roc_auc_score(y_train, y_pred_train)\n",
    "    return {'test_score':test_score, 'train_score':train_score}"
   ]
  },
  {
   "cell_type": "markdown",
   "metadata": {},
   "source": [
    "# Tunning Model"
   ]
  },
  {
   "cell_type": "code",
   "execution_count": 6,
   "metadata": {},
   "outputs": [
    {
     "name": "stdout",
     "output_type": "stream",
     "text": [
      "test_score:  0.7053337078169276\n",
      "train_score:  0.7182877713214434\n"
     ]
    }
   ],
   "source": [
    "model = GaussianNB()\n",
    "result = training(X_train, X_test, Y_train, Y_test, model)\n",
    "print('test_score: ',result['test_score'])     \n",
    "print('train_score: ',result['train_score'])"
   ]
  },
  {
   "cell_type": "markdown",
   "metadata": {},
   "source": [
    "# Scoring Model"
   ]
  },
  {
   "cell_type": "code",
   "execution_count": 7,
   "metadata": {},
   "outputs": [
    {
     "name": "stdout",
     "output_type": "stream",
     "text": [
      "AUC Score:  0.7226895077627531\n"
     ]
    }
   ],
   "source": [
    "test_df = pd.read_csv('test_processed.csv').set_index('enrollee_id')\n",
    "predict = model.predict_proba(test_df)[:,1]\n",
    "target_values = np.load(\"jobchange_test_target_values.npy\")\n",
    "score = metrics.roc_auc_score(target_values,predict)\n",
    "print(\"AUC Score: \",score)"
   ]
  },
  {
   "cell_type": "code",
   "execution_count": 8,
   "metadata": {},
   "outputs": [
    {
     "data": {
      "image/png": "[encoded data removed]",
      "text/plain": [
       "<Figure size 432x288 with 1 Axes>"
      ]
     },
     "metadata": {
      "needs_background": "light"
     },
     "output_type": "display_data"
    }
   ],
   "source": [
    "from sklearn.metrics import roc_curve, auc\n",
    "import matplotlib.pyplot as plt\n",
    "fpr, tpr, _ = roc_curve(target_values, predict)\n",
    "roc_auc = auc(fpr, tpr)\n",
    "\n",
    "plt.figure()\n",
    "lw = 2\n",
    "plt.plot(fpr, tpr, color='darkorange',\n",
    "         lw=lw, label='ROC curve (area = %0.4f)' % roc_auc)\n",
    "plt.plot([0, 1], [0, 1], color='navy', lw=lw, linestyle='--')\n",
    "plt.xlim([0.0, 1.0])\n",
    "plt.ylim([0.0, 1.05])\n",
    "plt.xlabel('False Positive Rate')\n",
    "plt.ylabel('True Positive Rate')\n",
    "plt.title('Receiver operating characteristic for training data')\n",
    "plt.legend(loc=\"lower right\")\n",
    "plt.show()"
   ]
  },
  {
   "cell_type": "code",
   "execution_count": null,
   "metadata": {},
   "outputs": [],
   "source": []
  },
  {
   "cell_type": "code",
   "execution_count": null,
   "metadata": {},
   "outputs": [],
   "source": []
  },
  {
   "cell_type": "code",
   "execution_count": null,
   "metadata": {},
   "outputs": [],
   "source": []
  }
 ],
 "metadata": {
  "kernelspec": {
   "display_name": "Python 3",
   "language": "python",
   "name": "python3"
  },
  "language_info": {
   "codemirror_mode": {
    "name": "ipython",
    "version": 3
   },
   "file_extension": ".py",
   "mimetype": "text/x-python",
   "name": "python",
   "nbconvert_exporter": "python",
   "pygments_lexer": "ipython3",
   "version": "3.7.6"
  }
 },
 "nbformat": 4,
 "nbformat_minor": 4
}
