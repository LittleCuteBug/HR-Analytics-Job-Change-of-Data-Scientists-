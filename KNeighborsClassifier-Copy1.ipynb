{
 "cells": [
  {
   "cell_type": "code",
   "execution_count": 1,
   "metadata": {},
   "outputs": [],
   "source": [
    "import numpy as np\n",
    "import pandas as pd"
   ]
  },
  {
   "cell_type": "code",
   "execution_count": 2,
   "metadata": {},
   "outputs": [],
   "source": [
    "X_train = pd.read_csv(\"X_train.csv\").set_index('enrollee_id')\n",
    "Y_train = pd.read_csv(\"Y_train.csv\").set_index('enrollee_id').values.flatten()\n",
    "X_test = pd.read_csv(\"X_test.csv\").set_index('enrollee_id')\n",
    "Y_test = pd.read_csv(\"Y_test.csv\").set_index('enrollee_id').values.flatten()"
   ]
  },
  {
   "cell_type": "code",
   "execution_count": 3,
   "metadata": {},
   "outputs": [],
   "source": [
    "from sklearn.neighbors import KNeighborsClassifier\n",
    "from sklearn import metrics\n",
    "from matplotlib import pyplot"
   ]
  },
  {
   "cell_type": "code",
   "execution_count": 4,
   "metadata": {},
   "outputs": [],
   "source": [
    "def training(X_train, X_test, y_train, y_test, model): \n",
    "    # training process\n",
    "    model.fit(X_train, y_train)\n",
    "    \n",
    "    # testing\n",
    "    y_pred = model.predict_proba(X_test)[:,1]\n",
    "    y_pred_train = model.predict_proba(X_train)[:,1]\n",
    "    #print(y_test.to_numpy())\n",
    "    #print(y_pred)\n",
    "    \n",
    "    test_score = metrics.roc_auc_score(y_test, y_pred)\n",
    "    train_score = metrics.roc_auc_score(y_train, y_pred_train)\n",
    "    return {'test_score':test_score, 'train_score':train_score}"
   ]
  },
  {
   "cell_type": "code",
   "execution_count": 5,
   "metadata": {},
   "outputs": [],
   "source": [
    "selected_col = ['city_development_index', 'gender', 'relevent_experience',\n",
    "       'enrolled_university', 'education_level', 'experience', 'company_size',\n",
    "       'last_new_job', 'training_hours', 'company_type_Pvt Ltd']\n",
    "\n",
    "X_train = X_train[selected_col] \n",
    "X_test = X_test[selected_col]"
   ]
  },
  {
   "cell_type": "markdown",
   "metadata": {},
   "source": [
    "# Tunning Model"
   ]
  },
  {
   "cell_type": "code",
   "execution_count": 6,
   "metadata": {},
   "outputs": [
    {
     "name": "stdout",
     "output_type": "stream",
     "text": [
      "3 uniform 1\n",
      "0.6177372842545152\n",
      "0.8862762013178433\n",
      "\n",
      "3 uniform 2\n",
      "0.5878316684317486\n",
      "0.8817757046600352\n",
      "\n",
      "3 uniform 3\n",
      "0.583153962847411\n",
      "0.8806090619450606\n",
      "\n",
      "3 distance 1\n",
      "0.6125552780719581\n",
      "0.9999909310236272\n",
      "\n",
      "3 distance 2\n",
      "0.5814033116753012\n",
      "0.9999909310236272\n",
      "\n",
      "3 distance 3\n",
      "0.5776384992987377\n",
      "0.9999909310236272\n",
      "\n",
      "5 uniform 1\n",
      "0.6271027134556486\n",
      "0.8384008694521308\n",
      "\n",
      "5 uniform 2\n",
      "0.6055705627271947\n",
      "0.8306722169715818\n",
      "\n",
      "5 uniform 3\n",
      "0.593112423791396\n",
      "0.8307384296366106\n",
      "\n",
      "5 distance 1\n",
      "0.6265420614248505\n",
      "0.9999909310236272\n",
      "\n",
      "5 distance 2\n",
      "0.599198557403326\n",
      "0.9999909310236272\n",
      "\n",
      "5 distance 3\n",
      "0.5877388227380714\n",
      "0.9999909310236272\n",
      "\n",
      "10 uniform 1\n",
      "0.6528166771617483\n",
      "0.7874459233729063\n",
      "\n",
      "10 uniform 2\n",
      "0.6194738028451212\n",
      "0.7738185185436467\n",
      "\n",
      "10 uniform 3\n",
      "0.6064111829865186\n",
      "0.7698446507191116\n",
      "\n",
      "10 distance 1\n",
      "0.6452362466725821\n",
      "0.9999909310236272\n",
      "\n",
      "10 distance 2\n",
      "0.6150565661047027\n",
      "0.9999909310236272\n",
      "\n",
      "10 distance 3\n",
      "0.6028767853564989\n",
      "0.9999909310236272\n",
      "\n",
      "20 uniform 1\n",
      "0.6572317671809257\n",
      "0.7517209524855768\n",
      "\n",
      "20 uniform 2\n",
      "0.627450840083579\n",
      "0.7297554691010266\n",
      "\n",
      "20 uniform 3\n",
      "0.6156995091164095\n",
      "0.7218959789323796\n",
      "\n",
      "20 distance 1\n",
      "0.6529304533875262\n",
      "0.9999909310236272\n",
      "\n",
      "20 distance 2\n",
      "0.6247372055414031\n",
      "0.9999909310236272\n",
      "\n",
      "20 distance 3\n",
      "0.6129642284683859\n",
      "0.9999909310236272\n",
      "\n"
     ]
    }
   ],
   "source": [
    "param = []\n",
    "\n",
    "for n_neighbors in (3,5,10,20):\n",
    "    for weights in ('uniform', 'distance'):\n",
    "        for p in range (1,4):\n",
    "            model = KNeighborsClassifier(n_neighbors=n_neighbors, weights=weights, p=p, n_jobs=-1)\n",
    "            result = training(X_train, X_test, Y_train, Y_test, model)\n",
    "            print(n_neighbors,weights, p)\n",
    "            print(result['test_score'])\n",
    "            print(result['train_score'])\n",
    "            print()\n",
    "            param.append((result['test_score'],result['train_score'],n_neighbors,weights, p))"
   ]
  },
  {
   "cell_type": "code",
   "execution_count": 7,
   "metadata": {},
   "outputs": [
    {
     "data": {
      "text/plain": [
       "[(0.6572317671809257, 0.7517209524855768, 20, 'uniform', 1),\n",
       " (0.6529304533875262, 0.9999909310236272, 20, 'distance', 1),\n",
       " (0.6528166771617483, 0.7874459233729063, 10, 'uniform', 1),\n",
       " (0.6452362466725821, 0.9999909310236272, 10, 'distance', 1),\n",
       " (0.627450840083579, 0.7297554691010266, 20, 'uniform', 2),\n",
       " (0.6271027134556486, 0.8384008694521308, 5, 'uniform', 1),\n",
       " (0.6265420614248505, 0.9999909310236272, 5, 'distance', 1),\n",
       " (0.6247372055414031, 0.9999909310236272, 20, 'distance', 2),\n",
       " (0.6194738028451212, 0.7738185185436467, 10, 'uniform', 2),\n",
       " (0.6177372842545152, 0.8862762013178433, 3, 'uniform', 1),\n",
       " (0.6156995091164095, 0.7218959789323796, 20, 'uniform', 3),\n",
       " (0.6150565661047027, 0.9999909310236272, 10, 'distance', 2),\n",
       " (0.6129642284683859, 0.9999909310236272, 20, 'distance', 3),\n",
       " (0.6125552780719581, 0.9999909310236272, 3, 'distance', 1),\n",
       " (0.6064111829865186, 0.7698446507191116, 10, 'uniform', 3),\n",
       " (0.6055705627271947, 0.8306722169715818, 5, 'uniform', 2),\n",
       " (0.6028767853564989, 0.9999909310236272, 10, 'distance', 3),\n",
       " (0.599198557403326, 0.9999909310236272, 5, 'distance', 2),\n",
       " (0.593112423791396, 0.8307384296366106, 5, 'uniform', 3),\n",
       " (0.5878316684317486, 0.8817757046600352, 3, 'uniform', 2),\n",
       " (0.5877388227380714, 0.9999909310236272, 5, 'distance', 3),\n",
       " (0.583153962847411, 0.8806090619450606, 3, 'uniform', 3),\n",
       " (0.5814033116753012, 0.9999909310236272, 3, 'distance', 2),\n",
       " (0.5776384992987377, 0.9999909310236272, 3, 'distance', 3)]"
      ]
     },
     "execution_count": 7,
     "metadata": {},
     "output_type": "execute_result"
    }
   ],
   "source": [
    "param.sort()\n",
    "param[::-1]"
   ]
  },
  {
   "cell_type": "markdown",
   "metadata": {},
   "source": [
    "# Importance feature"
   ]
  },
  {
   "cell_type": "code",
   "execution_count": 8,
   "metadata": {},
   "outputs": [
    {
     "name": "stdout",
     "output_type": "stream",
     "text": [
      "test_score:  0.6572317671809257\n",
      "train_score:  0.7517209524855768\n"
     ]
    }
   ],
   "source": [
    "model = KNeighborsClassifier(n_neighbors=20, weights='uniform', p=1, n_jobs=-1)\n",
    "result = training(X_train, X_test, Y_train, Y_test, model)\n",
    "print('test_score: ',result['test_score'])     \n",
    "print('train_score: ',result['train_score'])"
   ]
  },
  {
   "cell_type": "markdown",
   "metadata": {},
   "source": [
    "# Scoring Model"
   ]
  },
  {
   "cell_type": "code",
   "execution_count": 10,
   "metadata": {},
   "outputs": [
    {
     "name": "stdout",
     "output_type": "stream",
     "text": [
      "AUC Score:  0.6551790441439508\n"
     ]
    }
   ],
   "source": [
    "test_df = pd.read_csv('test_processed.csv').set_index('enrollee_id')[selected_col]\n",
    "predict = model.predict_proba(test_df)[:,1]\n",
    "target_values = np.load(\"jobchange_test_target_values.npy\")\n",
    "score = metrics.roc_auc_score(target_values,predict)\n",
    "print(\"AUC Score: \",score)"
   ]
  },
  {
   "cell_type": "code",
   "execution_count": 11,
   "metadata": {},
   "outputs": [
    {
     "data": {
      "image/png": "[encoded data removed]",
      "text/plain": [
       "<Figure size 432x288 with 1 Axes>"
      ]
     },
     "metadata": {
      "needs_background": "light"
     },
     "output_type": "display_data"
    }
   ],
   "source": [
    "from sklearn.metrics import roc_curve, auc\n",
    "import matplotlib.pyplot as plt\n",
    "fpr, tpr, _ = roc_curve(target_values, predict)\n",
    "roc_auc = auc(fpr, tpr)\n",
    "\n",
    "plt.figure()\n",
    "lw = 2\n",
    "plt.plot(fpr, tpr, color='darkorange',\n",
    "         lw=lw, label='ROC curve (area = %0.4f)' % roc_auc)\n",
    "plt.plot([0, 1], [0, 1], color='navy', lw=lw, linestyle='--')\n",
    "plt.xlim([0.0, 1.0])\n",
    "plt.ylim([0.0, 1.05])\n",
    "plt.xlabel('False Positive Rate')\n",
    "plt.ylabel('True Positive Rate')\n",
    "plt.title('Receiver operating characteristic for training data')\n",
    "plt.legend(loc=\"lower right\")\n",
    "plt.show()"
   ]
  },
  {
   "cell_type": "code",
   "execution_count": null,
   "metadata": {},
   "outputs": [],
   "source": []
  },
  {
   "cell_type": "code",
   "execution_count": null,
   "metadata": {},
   "outputs": [],
   "source": []
  },
  {
   "cell_type": "code",
   "execution_count": null,
   "metadata": {},
   "outputs": [],
   "source": []
  }
 ],
 "metadata": {
  "kernelspec": {
   "display_name": "Python 3",
   "language": "python",
   "name": "python3"
  },
  "language_info": {
   "codemirror_mode": {
    "name": "ipython",
    "version": 3
   },
   "file_extension": ".py",
   "mimetype": "text/x-python",
   "name": "python",
   "nbconvert_exporter": "python",
   "pygments_lexer": "ipython3",
   "version": "3.7.6"
  }
 },
 "nbformat": 4,
 "nbformat_minor": 4
}
