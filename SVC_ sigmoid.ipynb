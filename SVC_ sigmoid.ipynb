{
 "cells": [
  {
   "cell_type": "code",
   "execution_count": 1,
   "metadata": {},
   "outputs": [],
   "source": [
    "import numpy as np\n",
    "import pandas as pd"
   ]
  },
  {
   "cell_type": "code",
   "execution_count": 2,
   "metadata": {},
   "outputs": [],
   "source": [
    "X_train = pd.read_csv(\"X_train.csv\").set_index('enrollee_id')\n",
    "Y_train = pd.read_csv(\"Y_train.csv\").set_index('enrollee_id').values.flatten()\n",
    "X_test = pd.read_csv(\"X_test.csv\").set_index('enrollee_id')\n",
    "Y_test = pd.read_csv(\"Y_test.csv\").set_index('enrollee_id').values.flatten()"
   ]
  },
  {
   "cell_type": "code",
   "execution_count": 3,
   "metadata": {},
   "outputs": [],
   "source": [
    "from sklearn import svm\n",
    "from sklearn import metrics"
   ]
  },
  {
   "cell_type": "code",
   "execution_count": 4,
   "metadata": {},
   "outputs": [],
   "source": [
    "def training(X_train, X_test, y_train, y_test, model): \n",
    "    # training process\n",
    "    model.fit(X_train, y_train)\n",
    "    \n",
    "    # testing\n",
    "    y_pred = model.predict_proba(X_test)[:,1]\n",
    "    y_pred_train = model.predict_proba(X_train)[:,1]\n",
    "    #print(y_test.to_numpy())\n",
    "    #print(y_pred)\n",
    "    \n",
    "    test_score = metrics.roc_auc_score(y_test, y_pred)\n",
    "    train_score = metrics.roc_auc_score(y_train, y_pred_train)\n",
    "    return {'test_score':test_score, 'train_score':train_score}"
   ]
  },
  {
   "cell_type": "code",
   "execution_count": 7,
   "metadata": {},
   "outputs": [
    {
     "name": "stdout",
     "output_type": "stream",
     "text": [
      "{'test_score': 0.47879164639207716, 'train_score': 0.4886192341841107}\n"
     ]
    }
   ],
   "source": [
    "model = svm.SVC(C=1000,kernel='sigmoid', gamma='scale',probability = True)\n",
    "print(training(X_train, X_test, Y_train, Y_test, model))"
   ]
  },
  {
   "cell_type": "code",
   "execution_count": 8,
   "metadata": {},
   "outputs": [
    {
     "name": "stdout",
     "output_type": "stream",
     "text": [
      "AUC Score:  0.4991067915146312\n"
     ]
    }
   ],
   "source": [
    "test_df = pd.read_csv('test_processed.csv').set_index('enrollee_id')\n",
    "predict = model.predict_proba(test_df)[:,1]\n",
    "target_values = np.load(\"jobchange_test_target_values.npy\")\n",
    "score = metrics.roc_auc_score(target_values,predict)\n",
    "print(\"AUC Score: \",score)"
   ]
  },
  {
   "cell_type": "code",
   "execution_count": null,
   "metadata": {},
   "outputs": [],
   "source": []
  },
  {
   "cell_type": "code",
   "execution_count": null,
   "metadata": {},
   "outputs": [],
   "source": []
  }
 ],
 "metadata": {
  "kernelspec": {
   "display_name": "Python 3",
   "language": "python",
   "name": "python3"
  },
  "language_info": {
   "codemirror_mode": {
    "name": "ipython",
    "version": 3
   },
   "file_extension": ".py",
   "mimetype": "text/x-python",
   "name": "python",
   "nbconvert_exporter": "python",
   "pygments_lexer": "ipython3",
   "version": "3.7.6"
  }
 },
 "nbformat": 4,
 "nbformat_minor": 4
}
